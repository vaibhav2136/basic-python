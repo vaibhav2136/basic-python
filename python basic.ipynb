{
 "cells": [
  {
   "cell_type": "code",
   "execution_count": 1,
   "id": "03075f23",
   "metadata": {},
   "outputs": [
    {
     "data": {
      "text/plain": [
       "18"
      ]
     },
     "execution_count": 1,
     "metadata": {},
     "output_type": "execute_result"
    }
   ],
   "source": [
    "#creating variable\n",
    "v = 18\n",
    "v"
   ]
  },
  {
   "cell_type": "code",
   "execution_count": 3,
   "id": "59b8a3df",
   "metadata": {},
   "outputs": [
    {
     "data": {
      "text/plain": [
       "int"
      ]
     },
     "execution_count": 3,
     "metadata": {},
     "output_type": "execute_result"
    }
   ],
   "source": [
    "#python is a self type language\n",
    "type(v)"
   ]
  },
  {
   "cell_type": "code",
   "execution_count": 4,
   "id": "6924d51c",
   "metadata": {},
   "outputs": [
    {
     "data": {
      "text/plain": [
       "float"
      ]
     },
     "execution_count": 4,
     "metadata": {},
     "output_type": "execute_result"
    }
   ],
   "source": [
    "d=4.5\n",
    "type(d)"
   ]
  },
  {
   "cell_type": "code",
   "execution_count": 5,
   "id": "62f33629",
   "metadata": {},
   "outputs": [
    {
     "data": {
      "text/plain": [
       "str"
      ]
     },
     "execution_count": 5,
     "metadata": {},
     "output_type": "execute_result"
    }
   ],
   "source": [
    "s = \"vaibhav sharma\"\n",
    "type(s)"
   ]
  },
  {
   "cell_type": "code",
   "execution_count": 6,
   "id": "affa5814",
   "metadata": {},
   "outputs": [
    {
     "data": {
      "text/plain": [
       "bool"
      ]
     },
     "execution_count": 6,
     "metadata": {},
     "output_type": "execute_result"
    }
   ],
   "source": [
    "n = True\n",
    "type(n)"
   ]
  },
  {
   "cell_type": "code",
   "execution_count": 7,
   "id": "e1760a46",
   "metadata": {},
   "outputs": [
    {
     "name": "stdout",
     "output_type": "stream",
     "text": [
      "22.5\n"
     ]
    }
   ],
   "source": [
    "print(v+d)"
   ]
  },
  {
   "cell_type": "code",
   "execution_count": 8,
   "id": "de16f1ac",
   "metadata": {},
   "outputs": [
    {
     "data": {
      "text/plain": [
       "0"
      ]
     },
     "execution_count": 8,
     "metadata": {},
     "output_type": "execute_result"
    }
   ],
   "source": [
    "b = False\n",
    "n*b"
   ]
  },
  {
   "cell_type": "code",
   "execution_count": 9,
   "id": "13911e1b",
   "metadata": {},
   "outputs": [
    {
     "data": {
      "text/plain": [
       "1"
      ]
     },
     "execution_count": 9,
     "metadata": {},
     "output_type": "execute_result"
    }
   ],
   "source": [
    "g = True\n",
    "n+b"
   ]
  },
  {
   "cell_type": "code",
   "execution_count": 12,
   "id": "8a4855ec",
   "metadata": {},
   "outputs": [
    {
     "data": {
      "text/plain": [
       "complex"
      ]
     },
     "execution_count": 12,
     "metadata": {},
     "output_type": "execute_result"
    }
   ],
   "source": [
    "b = 5+7j\n",
    "type(b)"
   ]
  },
  {
   "cell_type": "code",
   "execution_count": 13,
   "id": "bf53d76d",
   "metadata": {},
   "outputs": [
    {
     "data": {
      "text/plain": [
       "5.0"
      ]
     },
     "execution_count": 13,
     "metadata": {},
     "output_type": "execute_result"
    }
   ],
   "source": [
    "b.real"
   ]
  },
  {
   "cell_type": "code",
   "execution_count": 15,
   "id": "e85a5ca4",
   "metadata": {},
   "outputs": [
    {
     "data": {
      "text/plain": [
       "7.0"
      ]
     },
     "execution_count": 15,
     "metadata": {},
     "output_type": "execute_result"
    }
   ],
   "source": [
    "b.imag"
   ]
  },
  {
   "cell_type": "code",
   "execution_count": 16,
   "id": "9d68c1ab",
   "metadata": {},
   "outputs": [
    {
     "data": {
      "text/plain": [
       "(5+7j)"
      ]
     },
     "execution_count": 16,
     "metadata": {},
     "output_type": "execute_result"
    }
   ],
   "source": [
    "b"
   ]
  },
  {
   "cell_type": "code",
   "execution_count": 17,
   "id": "37623b5b",
   "metadata": {},
   "outputs": [
    {
     "name": "stdout",
     "output_type": "stream",
     "text": [
      "<class 'str'>\n"
     ]
    }
   ],
   "source": [
    "a = \"vaibhav\"\n",
    "print(type(a))"
   ]
  },
  {
   "cell_type": "code",
   "execution_count": 19,
   "id": "f83e9131",
   "metadata": {},
   "outputs": [
    {
     "data": {
      "text/plain": [
       "'vaibh'"
      ]
     },
     "execution_count": 19,
     "metadata": {},
     "output_type": "execute_result"
    }
   ],
   "source": [
    "a[:5]"
   ]
  },
  {
   "cell_type": "code",
   "execution_count": 22,
   "id": "fdd78ef5",
   "metadata": {},
   "outputs": [
    {
     "data": {
      "text/plain": [
       "'ha'"
      ]
     },
     "execution_count": 22,
     "metadata": {},
     "output_type": "execute_result"
    }
   ],
   "source": [
    "a[4:-1]"
   ]
  },
  {
   "cell_type": "code",
   "execution_count": 23,
   "id": "2d4e9cd6",
   "metadata": {},
   "outputs": [
    {
     "data": {
      "text/plain": [
       "'vaib'"
      ]
     },
     "execution_count": 23,
     "metadata": {},
     "output_type": "execute_result"
    }
   ],
   "source": [
    "a[:4]"
   ]
  },
  {
   "cell_type": "code",
   "execution_count": 26,
   "id": "962e891f",
   "metadata": {},
   "outputs": [
    {
     "data": {
      "text/plain": [
       "'vihv'"
      ]
     },
     "execution_count": 26,
     "metadata": {},
     "output_type": "execute_result"
    }
   ],
   "source": [
    "a[:7:2]"
   ]
  },
  {
   "cell_type": "code",
   "execution_count": 29,
   "id": "eb48e411",
   "metadata": {},
   "outputs": [
    {
     "data": {
      "text/plain": [
       "'vahbiav'"
      ]
     },
     "execution_count": 29,
     "metadata": {},
     "output_type": "execute_result"
    }
   ],
   "source": [
    "a[::-1]"
   ]
  },
  {
   "cell_type": "code",
   "execution_count": 30,
   "id": "1391ff08",
   "metadata": {},
   "outputs": [
    {
     "data": {
      "text/plain": [
       "''"
      ]
     },
     "execution_count": 30,
     "metadata": {},
     "output_type": "execute_result"
    }
   ],
   "source": [
    "a[2:7:-1]"
   ]
  },
  {
   "cell_type": "code",
   "execution_count": 32,
   "id": "c8f139cb",
   "metadata": {},
   "outputs": [
    {
     "data": {
      "text/plain": [
       "'vahbia'"
      ]
     },
     "execution_count": 32,
     "metadata": {},
     "output_type": "execute_result"
    }
   ],
   "source": [
    "a[7:0:-1]"
   ]
  },
  {
   "cell_type": "code",
   "execution_count": 34,
   "id": "a65eb702",
   "metadata": {},
   "outputs": [
    {
     "data": {
      "text/plain": [
       "'av'"
      ]
     },
     "execution_count": 34,
     "metadata": {},
     "output_type": "execute_result"
    }
   ],
   "source": [
    "a[-2:7:1]"
   ]
  },
  {
   "cell_type": "code",
   "execution_count": 36,
   "id": "7a7fc523",
   "metadata": {},
   "outputs": [
    {
     "data": {
      "text/plain": [
       "'v'"
      ]
     },
     "execution_count": 36,
     "metadata": {},
     "output_type": "execute_result"
    }
   ],
   "source": [
    "a[0:-90:-2]"
   ]
  },
  {
   "cell_type": "code",
   "execution_count": 37,
   "id": "b5f34fa7",
   "metadata": {},
   "outputs": [
    {
     "data": {
      "text/plain": [
       "15"
      ]
     },
     "execution_count": 37,
     "metadata": {},
     "output_type": "execute_result"
    }
   ],
   "source": [
    "s = \"this is vaibhav\"\n",
    "len(s)"
   ]
  },
  {
   "cell_type": "code",
   "execution_count": 40,
   "id": "4bfd8ee7",
   "metadata": {},
   "outputs": [
    {
     "data": {
      "text/plain": [
       "3"
      ]
     },
     "execution_count": 40,
     "metadata": {},
     "output_type": "execute_result"
    }
   ],
   "source": [
    "s.find(\"s\")"
   ]
  },
  {
   "cell_type": "code",
   "execution_count": 41,
   "id": "9ae8cab1",
   "metadata": {},
   "outputs": [
    {
     "data": {
      "text/plain": [
       "2"
      ]
     },
     "execution_count": 41,
     "metadata": {},
     "output_type": "execute_result"
    }
   ],
   "source": [
    "s.count('s')"
   ]
  },
  {
   "cell_type": "code",
   "execution_count": 43,
   "id": "b37876b2",
   "metadata": {},
   "outputs": [
    {
     "data": {
      "text/plain": [
       "'THIS IS VAIBHAV'"
      ]
     },
     "execution_count": 43,
     "metadata": {},
     "output_type": "execute_result"
    }
   ],
   "source": [
    "s.upper()"
   ]
  },
  {
   "cell_type": "code",
   "execution_count": 44,
   "id": "01cbde2d",
   "metadata": {},
   "outputs": [
    {
     "data": {
      "text/plain": [
       "'this is vaibhav'"
      ]
     },
     "execution_count": 44,
     "metadata": {},
     "output_type": "execute_result"
    }
   ],
   "source": [
    "s.lower()"
   ]
  },
  {
   "cell_type": "code",
   "execution_count": 45,
   "id": "6e11bbb2",
   "metadata": {},
   "outputs": [
    {
     "data": {
      "text/plain": [
       "'This is vaibhav'"
      ]
     },
     "execution_count": 45,
     "metadata": {},
     "output_type": "execute_result"
    }
   ],
   "source": [
    "s.capitalize()"
   ]
  },
  {
   "cell_type": "code",
   "execution_count": 47,
   "id": "9d9c2899",
   "metadata": {},
   "outputs": [
    {
     "data": {
      "text/plain": [
       "'This Is Vaibhav'"
      ]
     },
     "execution_count": 47,
     "metadata": {},
     "output_type": "execute_result"
    }
   ],
   "source": [
    "s.title()"
   ]
  },
  {
   "cell_type": "code",
   "execution_count": 48,
   "id": "1f8263c5",
   "metadata": {},
   "outputs": [
    {
     "data": {
      "text/plain": [
       "'this is vaibhav,hello'"
      ]
     },
     "execution_count": 48,
     "metadata": {},
     "output_type": "execute_result"
    }
   ],
   "source": [
    "f = s+\",hello\"\n",
    "f"
   ]
  },
  {
   "cell_type": "code",
   "execution_count": 49,
   "id": "a6efe634",
   "metadata": {},
   "outputs": [
    {
     "data": {
      "text/plain": [
       "'this is vaibhavthis is vaibhavthis is vaibhav'"
      ]
     },
     "execution_count": 49,
     "metadata": {},
     "output_type": "execute_result"
    }
   ],
   "source": [
    "s*3"
   ]
  },
  {
   "cell_type": "markdown",
   "id": "d402c812",
   "metadata": {},
   "source": [
    "# LIST"
   ]
  },
  {
   "cell_type": "code",
   "execution_count": 2,
   "id": "95a3d849",
   "metadata": {},
   "outputs": [
    {
     "data": {
      "text/plain": [
       "list"
      ]
     },
     "execution_count": 2,
     "metadata": {},
     "output_type": "execute_result"
    }
   ],
   "source": [
    "l = [1,32,4.3,\"hello\"]\n",
    "type(l)"
   ]
  },
  {
   "cell_type": "code",
   "execution_count": 7,
   "id": "026d420c",
   "metadata": {},
   "outputs": [
    {
     "data": {
      "text/plain": [
       "4.3"
      ]
     },
     "execution_count": 7,
     "metadata": {},
     "output_type": "execute_result"
    }
   ],
   "source": [
    "l[2]"
   ]
  },
  {
   "cell_type": "code",
   "execution_count": 16,
   "id": "27f7d0d6",
   "metadata": {},
   "outputs": [
    {
     "data": {
      "text/plain": [
       "[1, 32, 4.3, 'hello', 'vaibhav', 'vaibhav', 'vaibhav', 'vaibhav']"
      ]
     },
     "execution_count": 16,
     "metadata": {},
     "output_type": "execute_result"
    }
   ],
   "source": [
    "s= \"vaibhav\"\n",
    "l.append(s)\n"
   ]
  },
  {
   "cell_type": "code",
   "execution_count": 18,
   "id": "8eb014a7",
   "metadata": {},
   "outputs": [
    {
     "data": {
      "text/plain": [
       "'vaib'"
      ]
     },
     "execution_count": 18,
     "metadata": {},
     "output_type": "execute_result"
    }
   ],
   "source": [
    "l[4][:4]"
   ]
  },
  {
   "cell_type": "code",
   "execution_count": 20,
   "id": "7467d0ea",
   "metadata": {},
   "outputs": [
    {
     "name": "stdout",
     "output_type": "stream",
     "text": [
      "[1, 32, 4.3, 'hello', 'vaibhav', 'vaibhav', 'vaibhav', 'vaibhav', 5.4, 646, 4, 3]\n"
     ]
    }
   ],
   "source": [
    "l1 = [5.4,646,4,3]\n",
    "l2 = l+l1\n",
    "print(l2)"
   ]
  },
  {
   "cell_type": "code",
   "execution_count": 21,
   "id": "022b7a92",
   "metadata": {},
   "outputs": [],
   "source": [
    "l3 = l1+l"
   ]
  },
  {
   "cell_type": "code",
   "execution_count": 23,
   "id": "0c989427",
   "metadata": {},
   "outputs": [
    {
     "name": "stdout",
     "output_type": "stream",
     "text": [
      "[5.4, 646, 4, 3, 1, 32, 4.3, 'hello', 'vaibhav', 'vaibhav', 'vaibhav', 'vaibhav']\n"
     ]
    }
   ],
   "source": [
    "print(l3)"
   ]
  },
  {
   "cell_type": "code",
   "execution_count": 24,
   "id": "06675de9",
   "metadata": {},
   "outputs": [
    {
     "name": "stdout",
     "output_type": "stream",
     "text": [
      "12\n"
     ]
    }
   ],
   "source": [
    "print(len(l3))"
   ]
  },
  {
   "cell_type": "code",
   "execution_count": 25,
   "id": "c4b3f482",
   "metadata": {},
   "outputs": [],
   "source": [
    "l3.append(l1)"
   ]
  },
  {
   "cell_type": "code",
   "execution_count": 28,
   "id": "af613f46",
   "metadata": {},
   "outputs": [
    {
     "data": {
      "text/plain": [
       "[5.4,\n",
       " 646,\n",
       " 4,\n",
       " 3,\n",
       " 1,\n",
       " 32,\n",
       " 4.3,\n",
       " 'hello',\n",
       " 'vaibhav',\n",
       " 'vaibhav',\n",
       " 'vaibhav',\n",
       " 'vaibhav',\n",
       " [5.4, 646, 4, 3]]"
      ]
     },
     "execution_count": 28,
     "metadata": {},
     "output_type": "execute_result"
    }
   ],
   "source": [
    "len(l3)\n",
    "l3"
   ]
  },
  {
   "cell_type": "code",
   "execution_count": 29,
   "id": "56139853",
   "metadata": {},
   "outputs": [
    {
     "data": {
      "text/plain": [
       "[5.4, 646]"
      ]
     },
     "execution_count": 29,
     "metadata": {},
     "output_type": "execute_result"
    }
   ],
   "source": [
    "l3[-1][0:2]"
   ]
  },
  {
   "cell_type": "code",
   "execution_count": 30,
   "id": "d67ac2dc",
   "metadata": {},
   "outputs": [
    {
     "ename": "TypeError",
     "evalue": "'int' object is not iterable",
     "output_type": "error",
     "traceback": [
      "\u001b[1;31m---------------------------------------------------------------------------\u001b[0m",
      "\u001b[1;31mTypeError\u001b[0m                                 Traceback (most recent call last)",
      "\u001b[1;32m<ipython-input-30-f329cd7e8865>\u001b[0m in \u001b[0;36m<module>\u001b[1;34m\u001b[0m\n\u001b[1;32m----> 1\u001b[1;33m \u001b[0ml3\u001b[0m\u001b[1;33m.\u001b[0m\u001b[0mextend\u001b[0m\u001b[1;33m(\u001b[0m\u001b[1;36m4\u001b[0m\u001b[1;33m)\u001b[0m\u001b[1;33m\u001b[0m\u001b[1;33m\u001b[0m\u001b[0m\n\u001b[0m",
      "\u001b[1;31mTypeError\u001b[0m: 'int' object is not iterable"
     ]
    }
   ],
   "source": [
    "l3.extend(4)"
   ]
  },
  {
   "cell_type": "code",
   "execution_count": 31,
   "id": "fa523e88",
   "metadata": {},
   "outputs": [],
   "source": [
    "l3.extend(\"vibhu\")"
   ]
  },
  {
   "cell_type": "code",
   "execution_count": 32,
   "id": "30ade84d",
   "metadata": {},
   "outputs": [
    {
     "data": {
      "text/plain": [
       "[5.4,\n",
       " 646,\n",
       " 4,\n",
       " 3,\n",
       " 1,\n",
       " 32,\n",
       " 4.3,\n",
       " 'hello',\n",
       " 'vaibhav',\n",
       " 'vaibhav',\n",
       " 'vaibhav',\n",
       " 'vaibhav',\n",
       " [5.4, 646, 4, 3],\n",
       " 'v',\n",
       " 'i',\n",
       " 'b',\n",
       " 'h',\n",
       " 'u']"
      ]
     },
     "execution_count": 32,
     "metadata": {},
     "output_type": "execute_result"
    }
   ],
   "source": [
    "l3"
   ]
  },
  {
   "cell_type": "code",
   "execution_count": 33,
   "id": "90f362e6",
   "metadata": {},
   "outputs": [],
   "source": [
    "l3.extend(l1)"
   ]
  },
  {
   "cell_type": "code",
   "execution_count": 34,
   "id": "9f047989",
   "metadata": {},
   "outputs": [
    {
     "data": {
      "text/plain": [
       "[5.4,\n",
       " 646,\n",
       " 4,\n",
       " 3,\n",
       " 1,\n",
       " 32,\n",
       " 4.3,\n",
       " 'hello',\n",
       " 'vaibhav',\n",
       " 'vaibhav',\n",
       " 'vaibhav',\n",
       " 'vaibhav',\n",
       " [5.4, 646, 4, 3],\n",
       " 'v',\n",
       " 'i',\n",
       " 'b',\n",
       " 'h',\n",
       " 'u',\n",
       " 5.4,\n",
       " 646,\n",
       " 4,\n",
       " 3]"
      ]
     },
     "execution_count": 34,
     "metadata": {},
     "output_type": "execute_result"
    }
   ],
   "source": [
    "l3"
   ]
  },
  {
   "cell_type": "code",
   "execution_count": 38,
   "id": "584bf2e4",
   "metadata": {},
   "outputs": [],
   "source": [
    "l3.insert(0,\"sharma\")\n"
   ]
  },
  {
   "cell_type": "code",
   "execution_count": 39,
   "id": "2fd61174",
   "metadata": {},
   "outputs": [
    {
     "data": {
      "text/plain": [
       "['sharma',\n",
       " 'sharma',\n",
       " 5.4,\n",
       " 646,\n",
       " 4,\n",
       " 3,\n",
       " 1,\n",
       " 32,\n",
       " 4.3,\n",
       " 'hello',\n",
       " 'vaibhav',\n",
       " 'vaibhav',\n",
       " 'vaibhav',\n",
       " 'vaibhav',\n",
       " [5.4, 646, 4, 3],\n",
       " 'v',\n",
       " 'i',\n",
       " 'b',\n",
       " 'h',\n",
       " 'u',\n",
       " 5.4,\n",
       " 646,\n",
       " 4,\n",
       " 3]"
      ]
     },
     "execution_count": 39,
     "metadata": {},
     "output_type": "execute_result"
    }
   ],
   "source": [
    "l3"
   ]
  },
  {
   "cell_type": "code",
   "execution_count": 40,
   "id": "a66684a6",
   "metadata": {},
   "outputs": [
    {
     "data": {
      "text/plain": [
       "646"
      ]
     },
     "execution_count": 40,
     "metadata": {},
     "output_type": "execute_result"
    }
   ],
   "source": [
    "l3.pop(3)"
   ]
  },
  {
   "cell_type": "code",
   "execution_count": 41,
   "id": "0bc24467",
   "metadata": {},
   "outputs": [
    {
     "data": {
      "text/plain": [
       "['sharma',\n",
       " 'sharma',\n",
       " 5.4,\n",
       " 4,\n",
       " 3,\n",
       " 1,\n",
       " 32,\n",
       " 4.3,\n",
       " 'hello',\n",
       " 'vaibhav',\n",
       " 'vaibhav',\n",
       " 'vaibhav',\n",
       " 'vaibhav',\n",
       " [5.4, 646, 4, 3],\n",
       " 'v',\n",
       " 'i',\n",
       " 'b',\n",
       " 'h',\n",
       " 'u',\n",
       " 5.4,\n",
       " 646,\n",
       " 4,\n",
       " 3]"
      ]
     },
     "execution_count": 41,
     "metadata": {},
     "output_type": "execute_result"
    }
   ],
   "source": [
    "l3"
   ]
  },
  {
   "cell_type": "code",
   "execution_count": 42,
   "id": "280e1835",
   "metadata": {},
   "outputs": [],
   "source": [
    "l3.remove(\"hello\")"
   ]
  },
  {
   "cell_type": "code",
   "execution_count": 43,
   "id": "df91c16b",
   "metadata": {},
   "outputs": [
    {
     "data": {
      "text/plain": [
       "['sharma',\n",
       " 'sharma',\n",
       " 5.4,\n",
       " 4,\n",
       " 3,\n",
       " 1,\n",
       " 32,\n",
       " 4.3,\n",
       " 'vaibhav',\n",
       " 'vaibhav',\n",
       " 'vaibhav',\n",
       " 'vaibhav',\n",
       " [5.4, 646, 4, 3],\n",
       " 'v',\n",
       " 'i',\n",
       " 'b',\n",
       " 'h',\n",
       " 'u',\n",
       " 5.4,\n",
       " 646,\n",
       " 4,\n",
       " 3]"
      ]
     },
     "execution_count": 43,
     "metadata": {},
     "output_type": "execute_result"
    }
   ],
   "source": [
    "l3"
   ]
  },
  {
   "cell_type": "code",
   "execution_count": 44,
   "id": "a5600bf7",
   "metadata": {},
   "outputs": [],
   "source": [
    "l3.remove(\"v\")"
   ]
  },
  {
   "cell_type": "code",
   "execution_count": 45,
   "id": "8b9ef342",
   "metadata": {},
   "outputs": [
    {
     "data": {
      "text/plain": [
       "['sharma',\n",
       " 'sharma',\n",
       " 5.4,\n",
       " 4,\n",
       " 3,\n",
       " 1,\n",
       " 32,\n",
       " 4.3,\n",
       " 'vaibhav',\n",
       " 'vaibhav',\n",
       " 'vaibhav',\n",
       " 'vaibhav',\n",
       " [5.4, 646, 4, 3],\n",
       " 'i',\n",
       " 'b',\n",
       " 'h',\n",
       " 'u',\n",
       " 5.4,\n",
       " 646,\n",
       " 4,\n",
       " 3]"
      ]
     },
     "execution_count": 45,
     "metadata": {},
     "output_type": "execute_result"
    }
   ],
   "source": [
    "l3"
   ]
  },
  {
   "cell_type": "code",
   "execution_count": 50,
   "id": "b0471ef7",
   "metadata": {},
   "outputs": [],
   "source": [
    "l3[12].remove(646)"
   ]
  },
  {
   "cell_type": "code",
   "execution_count": 51,
   "id": "619da8da",
   "metadata": {},
   "outputs": [
    {
     "data": {
      "text/plain": [
       "['sharma',\n",
       " 'sharma',\n",
       " 5.4,\n",
       " 4,\n",
       " 3,\n",
       " 1,\n",
       " 32,\n",
       " 4.3,\n",
       " 'vaibhav',\n",
       " 'vaibhav',\n",
       " 'vaibhav',\n",
       " 'vaibhav',\n",
       " [5.4, 4, 3],\n",
       " 'i',\n",
       " 'b',\n",
       " 'h',\n",
       " 'u',\n",
       " 5.4,\n",
       " 646,\n",
       " 4,\n",
       " 3]"
      ]
     },
     "execution_count": 51,
     "metadata": {},
     "output_type": "execute_result"
    }
   ],
   "source": [
    "l3"
   ]
  },
  {
   "cell_type": "code",
   "execution_count": 61,
   "id": "8e8f6433",
   "metadata": {},
   "outputs": [
    {
     "name": "stdout",
     "output_type": "stream",
     "text": [
      "[5323, 52, 52, 35, 23, 3]\n"
     ]
    }
   ],
   "source": [
    "l4 = [3,5323,52,23,52,35]\n",
    "l4.sort(reverse=True)\n",
    "print(l4)"
   ]
  },
  {
   "cell_type": "code",
   "execution_count": 63,
   "id": "75b33f59",
   "metadata": {},
   "outputs": [
    {
     "data": {
      "text/plain": [
       "8"
      ]
     },
     "execution_count": 63,
     "metadata": {},
     "output_type": "execute_result"
    }
   ],
   "source": [
    "l3.index(\"vaibhav\")"
   ]
  },
  {
   "cell_type": "code",
   "execution_count": 64,
   "id": "9a78c6ab",
   "metadata": {},
   "outputs": [
    {
     "data": {
      "text/plain": [
       "4"
      ]
     },
     "execution_count": 64,
     "metadata": {},
     "output_type": "execute_result"
    }
   ],
   "source": [
    "l3.count(\"vaibhav\")"
   ]
  },
  {
   "cell_type": "code",
   "execution_count": 65,
   "id": "6244e9a4",
   "metadata": {},
   "outputs": [],
   "source": [
    "s = \"vaibhav\"\n"
   ]
  },
  {
   "cell_type": "code",
   "execution_count": 69,
   "id": "2628594a",
   "metadata": {},
   "outputs": [
    {
     "data": {
      "text/plain": [
       "['v', 'a', 'i', 'b', 'h', 'a', 'v']"
      ]
     },
     "execution_count": 69,
     "metadata": {},
     "output_type": "execute_result"
    }
   ],
   "source": [
    "g = list(s)\n",
    "g"
   ]
  },
  {
   "cell_type": "code",
   "execution_count": 70,
   "id": "9aa98837",
   "metadata": {},
   "outputs": [],
   "source": [
    "g[0]=\"a\""
   ]
  },
  {
   "cell_type": "code",
   "execution_count": 71,
   "id": "2369cd97",
   "metadata": {},
   "outputs": [
    {
     "data": {
      "text/plain": [
       "['a', 'a', 'i', 'b', 'h', 'a', 'v']"
      ]
     },
     "execution_count": 71,
     "metadata": {},
     "output_type": "execute_result"
    }
   ],
   "source": [
    "g"
   ]
  },
  {
   "cell_type": "code",
   "execution_count": 77,
   "id": "4f264511",
   "metadata": {},
   "outputs": [
    {
     "ename": "TypeError",
     "evalue": "'int' object is not subscriptable",
     "output_type": "error",
     "traceback": [
      "\u001b[1;31m---------------------------------------------------------------------------\u001b[0m",
      "\u001b[1;31mTypeError\u001b[0m                                 Traceback (most recent call last)",
      "\u001b[1;32m<ipython-input-77-8f36bb14c046>\u001b[0m in \u001b[0;36m<module>\u001b[1;34m\u001b[0m\n\u001b[0;32m      2\u001b[0m \u001b[1;32mfor\u001b[0m \u001b[0mi\u001b[0m \u001b[1;32min\u001b[0m \u001b[0mrange\u001b[0m\u001b[1;33m(\u001b[0m\u001b[0mg\u001b[0m\u001b[1;33m)\u001b[0m\u001b[1;33m:\u001b[0m\u001b[1;33m\u001b[0m\u001b[1;33m\u001b[0m\u001b[0m\n\u001b[0;32m      3\u001b[0m \u001b[1;33m\u001b[0m\u001b[0m\n\u001b[1;32m----> 4\u001b[1;33m     \u001b[0mprint\u001b[0m\u001b[1;33m(\u001b[0m\u001b[0mg\u001b[0m\u001b[1;33m[\u001b[0m\u001b[0mi\u001b[0m\u001b[1;33m]\u001b[0m\u001b[1;33m)\u001b[0m\u001b[1;33m\u001b[0m\u001b[1;33m\u001b[0m\u001b[0m\n\u001b[0m\u001b[0;32m      5\u001b[0m \u001b[1;33m\u001b[0m\u001b[0m\n\u001b[0;32m      6\u001b[0m \u001b[1;33m\u001b[0m\u001b[0m\n",
      "\u001b[1;31mTypeError\u001b[0m: 'int' object is not subscriptable"
     ]
    }
   ],
   "source": [
    "\n",
    "\n",
    "    "
   ]
  },
  {
   "cell_type": "code",
   "execution_count": 92,
   "id": "db8951de",
   "metadata": {},
   "outputs": [
    {
     "data": {
      "text/plain": [
       "{3, 5, 6, 23, 36, 345, 435, 23452.3, 33334}"
      ]
     },
     "execution_count": 92,
     "metadata": {},
     "output_type": "execute_result"
    }
   ],
   "source": [
    "st = {4,345,23452.3,235,235,33334,5}\n",
    "st2 = {3,4,435,235,23,6,36}\n",
    "\n",
    "\n"
   ]
  },
  {
   "cell_type": "markdown",
   "id": "1e4d72b9",
   "metadata": {},
   "source": [
    "# DICTIONARY\n"
   ]
  },
  {
   "cell_type": "code",
   "execution_count": 1,
   "id": "b28e0cce",
   "metadata": {},
   "outputs": [],
   "source": [
    "d = {\"key\":\"vaibhav\"}"
   ]
  },
  {
   "cell_type": "code",
   "execution_count": 2,
   "id": "e3e6d667",
   "metadata": {},
   "outputs": [
    {
     "data": {
      "text/plain": [
       "{'key': 'vaibhav'}"
      ]
     },
     "execution_count": 2,
     "metadata": {},
     "output_type": "execute_result"
    }
   ],
   "source": [
    "d"
   ]
  },
  {
   "cell_type": "code",
   "execution_count": 3,
   "id": "e5961280",
   "metadata": {},
   "outputs": [
    {
     "data": {
      "text/plain": [
       "{'name': 'vaibhav', 'email': 'vibhuradheygovind@gmail.com'}"
      ]
     },
     "execution_count": 3,
     "metadata": {},
     "output_type": "execute_result"
    }
   ],
   "source": [
    "d1 = {\"name\":\"vaibhav\",\"email\":\"vibhuradheygovind@gmail.com\"}\n",
    "d1"
   ]
  },
  {
   "cell_type": "code",
   "execution_count": 5,
   "id": "bdfbd2b0",
   "metadata": {},
   "outputs": [
    {
     "data": {
      "text/plain": [
       "{32: 'vaibhav', '_user': 'sharma', True: 3432}"
      ]
     },
     "execution_count": 5,
     "metadata": {},
     "output_type": "execute_result"
    }
   ],
   "source": [
    "d2 = {32:\"vaibhav\",\"_user\":\"sharma\",True:3432}\n",
    "d2"
   ]
  },
  {
   "cell_type": "code",
   "execution_count": 6,
   "id": "81b2f550",
   "metadata": {},
   "outputs": [],
   "source": [
    "#special characters can't be use in dictionary"
   ]
  },
  {
   "cell_type": "code",
   "execution_count": 7,
   "id": "53caf838",
   "metadata": {},
   "outputs": [
    {
     "data": {
      "text/plain": [
       "'vaibhav'"
      ]
     },
     "execution_count": 7,
     "metadata": {},
     "output_type": "execute_result"
    }
   ],
   "source": [
    "d2[32]"
   ]
  },
  {
   "cell_type": "code",
   "execution_count": 11,
   "id": "fbcfd6eb",
   "metadata": {},
   "outputs": [
    {
     "data": {
      "text/plain": [
       "3432"
      ]
     },
     "execution_count": 11,
     "metadata": {},
     "output_type": "execute_result"
    }
   ],
   "source": [
    "d2[1]"
   ]
  },
  {
   "cell_type": "code",
   "execution_count": 12,
   "id": "5cf06a1f",
   "metadata": {},
   "outputs": [
    {
     "data": {
      "text/plain": [
       "{'name': 'vibhu', 'email': 'vibhu213@gmail.com'}"
      ]
     },
     "execution_count": 12,
     "metadata": {},
     "output_type": "execute_result"
    }
   ],
   "source": [
    "d3 = {\"name\":\"vaibhav\",\"email\":\"vibhu213@gmail.com\",\"name\":\"vibhu\"}\n",
    "d3"
   ]
  },
  {
   "cell_type": "code",
   "execution_count": 13,
   "id": "c951322b",
   "metadata": {},
   "outputs": [
    {
     "data": {
      "text/plain": [
       "'vibhu'"
      ]
     },
     "execution_count": 13,
     "metadata": {},
     "output_type": "execute_result"
    }
   ],
   "source": [
    "d3[\"name\"]"
   ]
  },
  {
   "cell_type": "code",
   "execution_count": 14,
   "id": "b4e05a67",
   "metadata": {},
   "outputs": [
    {
     "data": {
      "text/plain": [
       "'cloud'"
      ]
     },
     "execution_count": 14,
     "metadata": {},
     "output_type": "execute_result"
    }
   ],
   "source": [
    "d4 = {\"company\":\"vaibhav\",\"course\":[\"webdec\",\"cloud\"]}\n",
    "d4[\"course\"][1]"
   ]
  },
  {
   "cell_type": "code",
   "execution_count": 15,
   "id": "59eca9d7",
   "metadata": {},
   "outputs": [
    {
     "data": {
      "text/plain": [
       "{'number': [2, 312, 41, 2, 23],\n",
       " 'assignment': (2, 324, 24, 2, 3),\n",
       " 'launch_data': {3, 34, 35, 52, 343},\n",
       " 'class_time': [0, 'when sun rise you will take a dip in the water']}"
      ]
     },
     "execution_count": 15,
     "metadata": {},
     "output_type": "execute_result"
    }
   ],
   "source": [
    "d5={\"number\":[2,312,41,2,23],\"assignment\":(2,324,24,2,3),\"launch_data\":{34,343,52,35,3},\"class_time\":[0,\"when sun rise you will take a dip in the water\"]}\n",
    "d5"
   ]
  },
  {
   "cell_type": "code",
   "execution_count": 16,
   "id": "054394f6",
   "metadata": {},
   "outputs": [
    {
     "data": {
      "text/plain": [
       "{'number': [2, 312, 41, 2, 23],\n",
       " 'assignment': (2, 324, 24, 2, 3),\n",
       " 'launch_data': {3, 34, 35, 52, 343},\n",
       " 'class_time': [0, 'when sun rise you will take a dip in the water'],\n",
       " 'hunter': ['vaibhav', 'vibhu', 'hello']}"
      ]
     },
     "execution_count": 16,
     "metadata": {},
     "output_type": "execute_result"
    }
   ],
   "source": [
    "d5[\"hunter\"]=[\"vaibhav\",\"vibhu\",\"hello\"]\n",
    "d5\n",
    "#to create a new key"
   ]
  },
  {
   "cell_type": "code",
   "execution_count": 17,
   "id": "f5e0766d",
   "metadata": {},
   "outputs": [],
   "source": [
    "#to delete the key\n",
    "del d5['hunter']"
   ]
  },
  {
   "cell_type": "code",
   "execution_count": 18,
   "id": "7e8c2bb4",
   "metadata": {},
   "outputs": [
    {
     "data": {
      "text/plain": [
       "{'number': [2, 312, 41, 2, 23],\n",
       " 'assignment': (2, 324, 24, 2, 3),\n",
       " 'launch_data': {3, 34, 35, 52, 343},\n",
       " 'class_time': [0, 'when sun rise you will take a dip in the water']}"
      ]
     },
     "execution_count": 18,
     "metadata": {},
     "output_type": "execute_result"
    }
   ],
   "source": [
    "d5"
   ]
  },
  {
   "cell_type": "code",
   "execution_count": 20,
   "id": "d1cd2429",
   "metadata": {},
   "outputs": [
    {
     "data": {
      "text/plain": [
       "dict_keys(['number', 'assignment', 'launch_data', 'class_time'])"
      ]
     },
     "execution_count": 20,
     "metadata": {},
     "output_type": "execute_result"
    }
   ],
   "source": [
    "d5.keys()\n",
    "#for keys"
   ]
  },
  {
   "cell_type": "code",
   "execution_count": 21,
   "id": "87ca2a3d",
   "metadata": {},
   "outputs": [
    {
     "data": {
      "text/plain": [
       "dict_values([[2, 312, 41, 2, 23], (2, 324, 24, 2, 3), {34, 3, 35, 52, 343}, [0, 'when sun rise you will take a dip in the water']])"
      ]
     },
     "execution_count": 21,
     "metadata": {},
     "output_type": "execute_result"
    }
   ],
   "source": [
    "d5.values()\n",
    "#for values"
   ]
  },
  {
   "cell_type": "code",
   "execution_count": 22,
   "id": "31bcd41a",
   "metadata": {},
   "outputs": [
    {
     "data": {
      "text/plain": [
       "dict_items([('number', [2, 312, 41, 2, 23]), ('assignment', (2, 324, 24, 2, 3)), ('launch_data', {34, 3, 35, 52, 343}), ('class_time', [0, 'when sun rise you will take a dip in the water'])])"
      ]
     },
     "execution_count": 22,
     "metadata": {},
     "output_type": "execute_result"
    }
   ],
   "source": [
    "d5.items()\n",
    "#for both key and values"
   ]
  },
  {
   "cell_type": "code",
   "execution_count": 23,
   "id": "331fc112",
   "metadata": {},
   "outputs": [
    {
     "data": {
      "text/plain": [
       "[2, 312, 41, 2, 23]"
      ]
     },
     "execution_count": 23,
     "metadata": {},
     "output_type": "execute_result"
    }
   ],
   "source": [
    "#to remove the value of the respective key\n",
    "d5.pop(\"number\")"
   ]
  },
  {
   "cell_type": "code",
   "execution_count": 24,
   "id": "3f235824",
   "metadata": {},
   "outputs": [
    {
     "data": {
      "text/plain": [
       "{'assignment': (2, 324, 24, 2, 3),\n",
       " 'launch_data': {3, 34, 35, 52, 343},\n",
       " 'class_time': [0, 'when sun rise you will take a dip in the water']}"
      ]
     },
     "execution_count": 24,
     "metadata": {},
     "output_type": "execute_result"
    }
   ],
   "source": [
    "d5"
   ]
  },
  {
   "cell_type": "code",
   "execution_count": 25,
   "id": "8a9f513b",
   "metadata": {},
   "outputs": [
    {
     "ename": "TypeError",
     "evalue": "pop expected at least 1 argument, got 0",
     "output_type": "error",
     "traceback": [
      "\u001b[1;31m---------------------------------------------------------------------------\u001b[0m",
      "\u001b[1;31mTypeError\u001b[0m                                 Traceback (most recent call last)",
      "\u001b[1;32m<ipython-input-25-7a8475eb492b>\u001b[0m in \u001b[0;36m<module>\u001b[1;34m\u001b[0m\n\u001b[1;32m----> 1\u001b[1;33m \u001b[0md5\u001b[0m\u001b[1;33m.\u001b[0m\u001b[0mpop\u001b[0m\u001b[1;33m(\u001b[0m\u001b[1;33m)\u001b[0m\u001b[1;33m\u001b[0m\u001b[1;33m\u001b[0m\u001b[0m\n\u001b[0m",
      "\u001b[1;31mTypeError\u001b[0m: pop expected at least 1 argument, got 0"
     ]
    }
   ],
   "source": [
    "d5.pop()"
   ]
  },
  {
   "cell_type": "markdown",
   "id": "e02ba81d",
   "metadata": {},
   "source": [
    "# CONTROL FLOW"
   ]
  },
  {
   "cell_type": "code",
   "execution_count": 27,
   "id": "aa97da82",
   "metadata": {},
   "outputs": [
    {
     "name": "stdout",
     "output_type": "stream",
     "text": [
      "55\n",
      "you will be the part of batch C\n"
     ]
    }
   ],
   "source": [
    "marks = int(input())\n",
    "if marks >= 80:\n",
    "    print(\"you will be the part of batch A\")\n",
    "elif marks>=60 and marks<80:\n",
    "    print(\"you will be  the part of batch B\")\n",
    "elif marks>=40 and marks<60:\n",
    "    print(\"you will be the part of batch C\")\n",
    "else:\n",
    "    print(\"you will be the part of batch D\")\n"
   ]
  },
  {
   "cell_type": "code",
   "execution_count": 28,
   "id": "bd96ee16",
   "metadata": {},
   "outputs": [
    {
     "name": "stdout",
     "output_type": "stream",
     "text": [
      "45\n",
      "i will  purchase\n"
     ]
    }
   ],
   "source": [
    "price = int(input())\n",
    "if price >1000:\n",
    "    print(\" i will not purchase\")\n",
    "else:\n",
    "    print(\"i will  purchase\")"
   ]
  },
  {
   "cell_type": "markdown",
   "id": "def03b53",
   "metadata": {},
   "source": [
    "# LOOP"
   ]
  },
  {
   "cell_type": "code",
   "execution_count": 42,
   "id": "ff0c4e26",
   "metadata": {},
   "outputs": [
    {
     "data": {
      "text/plain": [
       "[23, 32, 22, 25, 22, 242, 3]"
      ]
     },
     "execution_count": 42,
     "metadata": {},
     "output_type": "execute_result"
    }
   ],
   "source": [
    "l = [22,31,21,24,21,241,2]\n",
    "\n",
    "l2 = []\n",
    "for i in l:\n",
    "    l2.append(i+1)\n",
    "    \n",
    "l2  \n"
   ]
  },
  {
   "cell_type": "code",
   "execution_count": 44,
   "id": "c2f3d20b",
   "metadata": {},
   "outputs": [
    {
     "data": {
      "text/plain": [
       "['Vaibhav', 'Sharma', 'Country']"
      ]
     },
     "execution_count": 44,
     "metadata": {},
     "output_type": "execute_result"
    }
   ],
   "source": [
    "li = ['vaibhav','sharma','country']\n",
    "l1 = []\n",
    "for i in li:\n",
    "    l1.append(i.title())\n",
    "l1\n",
    "    "
   ]
  },
  {
   "cell_type": "code",
   "execution_count": 50,
   "id": "fadae602",
   "metadata": {},
   "outputs": [
    {
     "data": {
      "text/plain": [
       "['vaibhav', 'sharma', 'abd']"
      ]
     },
     "execution_count": 50,
     "metadata": {},
     "output_type": "execute_result"
    }
   ],
   "source": [
    "l= [1,23,3,24,6,7,8,\"vaibhav\",\"sharma\",3,553,\"abd\"]\n",
    "l1 = []\n",
    "l2 = []\n",
    "for i in l:\n",
    "    if type(i) is int or type(i) is float:\n",
    "        l1.append(i)\n",
    "    else:\n",
    "        l2.append(i)\n",
    "l1\n",
    "l2"
   ]
  },
  {
   "cell_type": "code",
   "execution_count": 52,
   "id": "eaad2620",
   "metadata": {},
   "outputs": [
    {
     "data": {
      "text/plain": [
       "[2, 3]"
      ]
     },
     "execution_count": 52,
     "metadata": {},
     "output_type": "execute_result"
    }
   ],
   "source": [
    "my_list = [1,2,3,4,5]\n",
    "my_list[1:3]"
   ]
  },
  {
   "cell_type": "code",
   "execution_count": 53,
   "id": "a7d7420c",
   "metadata": {},
   "outputs": [],
   "source": [
    "price = 9.99"
   ]
  },
  {
   "cell_type": "code",
   "execution_count": 54,
   "id": "54e16a79",
   "metadata": {},
   "outputs": [
    {
     "data": {
      "text/plain": [
       "float"
      ]
     },
     "execution_count": 54,
     "metadata": {},
     "output_type": "execute_result"
    }
   ],
   "source": [
    "type(price)"
   ]
  },
  {
   "cell_type": "code",
   "execution_count": 55,
   "id": "78bfe471",
   "metadata": {},
   "outputs": [
    {
     "name": "stdout",
     "output_type": "stream",
     "text": [
      "vaibhav sharma\n"
     ]
    }
   ],
   "source": [
    "name = \"vaibhav sharma\"\n",
    "print(name)"
   ]
  },
  {
   "cell_type": "code",
   "execution_count": 58,
   "id": "0a311e52",
   "metadata": {},
   "outputs": [
    {
     "data": {
      "text/plain": [
       "'World'"
      ]
     },
     "execution_count": 58,
     "metadata": {},
     "output_type": "execute_result"
    }
   ],
   "source": [
    "string = \"Hello, World!\"\n",
    "string[7:12]"
   ]
  },
  {
   "cell_type": "code",
   "execution_count": null,
   "id": "420c2477",
   "metadata": {},
   "outputs": [],
   "source": []
  }
 ],
 "metadata": {
  "kernelspec": {
   "display_name": "Python 3",
   "language": "python",
   "name": "python3"
  },
  "language_info": {
   "codemirror_mode": {
    "name": "ipython",
    "version": 3
   },
   "file_extension": ".py",
   "mimetype": "text/x-python",
   "name": "python",
   "nbconvert_exporter": "python",
   "pygments_lexer": "ipython3",
   "version": "3.8.8"
  }
 },
 "nbformat": 4,
 "nbformat_minor": 5
}
